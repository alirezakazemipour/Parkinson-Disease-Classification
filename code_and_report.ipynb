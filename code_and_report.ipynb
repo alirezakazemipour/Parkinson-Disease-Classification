{
 "cells": [
  {
   "cell_type": "markdown",
   "metadata": {
    "id": "2xoIkUFnBzkz"
   },
   "source": [
    "<h3 style=\"text-align:center\">\n",
    "    In the name of God\n",
    "</h3>\n",
    "<p style=\"text-align:left\">\n",
    "    Machine Learning Course 1400, Dr. Sajedi\n",
    "    <br>HW2\n",
    "    <br>Alireza Kazemipour\n",
    "    <br>610300171\n",
    "</p>"
   ]
  },
  {
   "cell_type": "code",
   "execution_count": 1,
   "metadata": {},
   "outputs": [
    {
     "name": "stdout",
     "output_type": "stream",
     "text": [
      "Defaulting to user installation because normal site-packages is not writeable\n",
      "Requirement already satisfied: nn-without-frameworks in /home/alireza/.local/lib/python3.8/site-packages (0.0.6)\n",
      "Requirement already satisfied: numpy in /home/alireza/.local/lib/python3.8/site-packages (from nn-without-frameworks) (1.19.5)\n"
     ]
    }
   ],
   "source": [
    "!pip install nn-without-frameworks"
   ]
  },
  {
   "cell_type": "code",
   "execution_count": 1,
   "metadata": {},
   "outputs": [],
   "source": [
    "%matplotlib inline\n",
    "\n",
    "from nn_without_frameworks import numpy_nn as nn\n",
    "from typing import List\n",
    "from sklearn.svm import SVC\n",
    "from sklearn.tree import DecisionTreeClassifier\n",
    "from sklearn.ensemble import RandomForestClassifier\n",
    "from xgboost import XGBClassifier\n",
    "from sklearn.metrics import confusion_matrix, classification_report\n",
    "from sklearn.preprocessing import StandardScaler\n",
    "import pandas as pd\n",
    "import matplotlib.pyplot as plt\n",
    "import seaborn as sns\n",
    "from tqdm import tqdm\n",
    "import numpy as np"
   ]
  },
  {
   "cell_type": "code",
   "execution_count": 2,
   "metadata": {},
   "outputs": [
    {
     "name": "stdout",
     "output_type": "stream",
     "text": [
      "Index(['id', 'gender', 'PPE', 'DFA', 'RPDE', 'numPulses', 'numPeriodsPulses',\n",
      "       'meanPeriodPulses', 'stdDevPeriodPulses', 'locPctJitter',\n",
      "       ...\n",
      "       'tqwt_kurtosisValue_dec_28', 'tqwt_kurtosisValue_dec_29',\n",
      "       'tqwt_kurtosisValue_dec_30', 'tqwt_kurtosisValue_dec_31',\n",
      "       'tqwt_kurtosisValue_dec_32', 'tqwt_kurtosisValue_dec_33',\n",
      "       'tqwt_kurtosisValue_dec_34', 'tqwt_kurtosisValue_dec_35',\n",
      "       'tqwt_kurtosisValue_dec_36', 'class'],\n",
      "      dtype='object', length=755)\n"
     ]
    }
   ],
   "source": [
    "dataset = pd.read_csv('pd_speech_features.csv', skiprows=[0], encoding=\"utf-8\")\n",
    "print(dataset.keys())"
   ]
  },
  {
   "cell_type": "code",
   "execution_count": 3,
   "metadata": {},
   "outputs": [
    {
     "name": "stdout",
     "output_type": "stream",
     "text": [
      "input's shape: (756, 754)\n",
      "labels's shape: (756,)\n"
     ]
    }
   ],
   "source": [
    "dataset_vals = dataset.values\n",
    "X = dataset_vals[..., :-1]\n",
    "Y = dataset_vals[..., -1]\n",
    "n_class = int(np.max(Y) + 1)\n",
    "n_feat = X.shape[-1]\n",
    "print(f\"input's shape: {X.shape}\")\n",
    "print(f\"labels's shape: {Y.shape}\")"
   ]
  },
  {
   "cell_type": "code",
   "execution_count": 4,
   "metadata": {},
   "outputs": [],
   "source": [
    "cv_num = 5\n",
    "seed = 123"
   ]
  },
  {
   "cell_type": "code",
   "execution_count": 5,
   "metadata": {},
   "outputs": [],
   "source": [
    "np.random.seed(seed)\n",
    "shuffler = np.random.permutation(len(X))\n",
    "X = X[shuffler]\n",
    "Y = Y[shuffler]"
   ]
  },
  {
   "cell_type": "code",
   "execution_count": 6,
   "metadata": {},
   "outputs": [],
   "source": [
    "test_idx = np.random.permutation(int(0.1 * len(X)))\n",
    "x_test = X[test_idx]\n",
    "y_test = Y[test_idx]\n",
    "\n",
    "X = np.delete(X, test_idx, axis=0)\n",
    "Y = np.delete(Y, test_idx, axis=0)\n",
    "full_batch_size = X.shape[0]"
   ]
  },
  {
   "cell_type": "code",
   "execution_count": 7,
   "metadata": {},
   "outputs": [],
   "source": [
    "scaler = StandardScaler() \n",
    "X = scaler.fit_transform(X)"
   ]
  },
  {
   "cell_type": "code",
   "execution_count": 8,
   "metadata": {},
   "outputs": [],
   "source": [
    "def choose_fold(x, y, n):\n",
    "    for i in range(n):\n",
    "        x_val = x[i * full_batch_size // cv_num: (i + 1) * full_batch_size // cv_num]\n",
    "        y_val = y[i * full_batch_size // cv_num: (i + 1) * full_batch_size // cv_num]\n",
    "\n",
    "        x_train = np.delete(x, range(i * full_batch_size // cv_num, (i + 1) * full_batch_size // cv_num), axis=0)\n",
    "        y_train = np.delete(y, range(i * full_batch_size // cv_num, (i + 1) * full_batch_size // cv_num), axis=0)\n",
    "\n",
    "        yield x_train, y_train, x_val, y_val"
   ]
  },
  {
   "cell_type": "code",
   "execution_count": 49,
   "metadata": {},
   "outputs": [],
   "source": [
    "class NNClassifier:\n",
    "    def __init__(self,\n",
    "                 hidden_units: List=[64],\n",
    "                 epoch=500,\n",
    "                 lr=0.001,\n",
    "                 opt: nn.optims.Optimizer=nn.optims.SGD,\n",
    "                 lam: float=0,\n",
    "                 reg_type: str=None\n",
    "                ):\n",
    "        self.hidden_units = hidden_units\n",
    "        self.epoch = epoch\n",
    "        self.lr = lr\n",
    "        self.opt = opt\n",
    "        self.lam = lam\n",
    "        self.reg_type = reg_type\n",
    "        self.bce_loss = nn.losses.BinaryCrossEntropy()\n",
    "        self.model = None\n",
    "        self.loss_history = []\n",
    "        \n",
    "    def fit(self, x, y):\n",
    "        self.loss_history = []\n",
    "        if self.model is None:\n",
    "            n_feats = int(x.shape[-1])\n",
    "            self.hidden_units.insert(0, n_feat)\n",
    "            \n",
    "            hidden_layers = []\n",
    "            for i in range(len(self.hidden_units) - 1):\n",
    "                hidden_layers.append(nn.layers.Dense(in_features=self.hidden_units[i],\n",
    "                                           out_features=self.hidden_units[i+1],\n",
    "                                           activation=nn.acts.ReLU(),\n",
    "                                           weight_initializer=nn.inits.HeNormal(nn.acts.ReLU()),\n",
    "                                           bias_initializer=nn.inits.Constant(0.01),\n",
    "                                           regularizer_type=self.reg_type,\n",
    "                                           lam=self.lam)\n",
    "                                    )\n",
    "                hidden_layers.append(nn.layers.BatchNorm1d(self.hidden_units[i+1])) \n",
    "            output_layer = nn.layers.Dense(in_features=self.hidden_units[-1],\n",
    "                                      out_features=1,\n",
    "                                      activation=nn.acts.Sigmoid(),\n",
    "                                      weight_initializer=nn.inits.XavierUniform(),\n",
    "                                      bias_initializer=nn.inits.Constant(0.01),\n",
    "                                      regularizer_type=self.reg_type,\n",
    "                                      lam=self.lam)\n",
    "            \n",
    "            self.model = nn.Sequential(*hidden_layers, output_layer)\n",
    "            self.opt = self.opt(self.model.parameters, lr=self.lr)\n",
    "            \n",
    "        for step in range(self.epoch):\n",
    "            y_pred = self.model(x)\n",
    "            y_pred = y_pred.squeeze(-1)\n",
    "            loss = self.bce_loss(y_pred, y)\n",
    "            self.model.backward(loss)\n",
    "            self.opt.apply()\n",
    "            if step == 0:\n",
    "                self.loss_history.append(loss.value)\n",
    "            else:\n",
    "                self.loss_history.append(0.9 * self.loss_history[-1] + 0.1 * loss.value)\n",
    "            \n",
    "    def predict(self, x):\n",
    "        assert not self.model is None\n",
    "        pred = self.model(x)\n",
    "        return np.where(pred > 0.5, 1, 0).squeeze(-1)\n",
    "    \n",
    "    def model_architecture(self):\n",
    "        self.model.summary() "
   ]
  },
  {
   "cell_type": "code",
   "execution_count": 52,
   "metadata": {},
   "outputs": [],
   "source": [
    "clfs = {\"Neural Net\": {\"base_clf\": NNClassifier(hidden_units=[64],\n",
    "                                                epoch=600,\n",
    "                                                opt=nn.optims.Adam,\n",
    "                                                lam=1e-3,\n",
    "                                                reg_type=\"l2\"\n",
    "                                               ),\n",
    "                       \"param\": \"lr\",\n",
    "                       \"param_values\": [1e-3, 1e-4, 1e-5]\n",
    "                       }\n",
    "        }"
   ]
  },
  {
   "cell_type": "code",
   "execution_count": 53,
   "metadata": {},
   "outputs": [
    {
     "name": "stderr",
     "output_type": "stream",
     "text": [
      "100%|█████████████████████████████████████████████| 3/3 [01:07<00:00, 22.51s/it]"
     ]
    },
    {
     "name": "stdout",
     "output_type": "stream",
     "text": [
      "==> Neural Net <==\n",
      "Training result:\n",
      "\tbest param: lr = 0.0001\n",
      "\tbest validation accuracy = 81.63%\n"
     ]
    },
    {
     "name": "stderr",
     "output_type": "stream",
     "text": [
      "\n"
     ]
    },
    {
     "data": {
      "image/png": "[encoded data removed]",
      "text/plain": [
       "<Figure size 432x288 with 1 Axes>"
      ]
     },
     "metadata": {
      "needs_background": "light"
     },
     "output_type": "display_data"
    },
    {
     "name": "stdout",
     "output_type": "stream",
     "text": [
      "\n",
      "Model Summary:\n",
      "+----------------+----------------+----------+\n",
      "| Layer          | Output shape   |   Param# |\n",
      "+================+================+==========+\n",
      "| Input          | (None, 754)    |        0 |\n",
      "+----------------+----------------+----------+\n",
      "| Dense[0]       | (None, 64)     |    48320 |\n",
      "+----------------+----------------+----------+\n",
      "| BatchNorm1d[1] | (None, 64)     |      128 |\n",
      "+----------------+----------------+----------+\n",
      "| Dense[2]       | (None, 1)      |       65 |\n",
      "+----------------+----------------+----------+\n"
     ]
    },
    {
     "data": {
      "image/png": "[encoded data removed]",
      "text/plain": [
       "<Figure size 432x288 with 1 Axes>"
      ]
     },
     "metadata": {
      "needs_background": "light"
     },
     "output_type": "display_data"
    },
    {
     "name": "stdout",
     "output_type": "stream",
     "text": [
      "Test result: \n"
     ]
    },
    {
     "data": {
      "image/png": "[encoded data removed]",
      "text/plain": [
       "<Figure size 144x144 with 2 Axes>"
      ]
     },
     "metadata": {
      "needs_background": "light"
     },
     "output_type": "display_data"
    },
    {
     "name": "stdout",
     "output_type": "stream",
     "text": [
      "              precision    recall  f1-score   support\n",
      "\n",
      "         0.0       0.77      0.53      0.62        19\n",
      "         1.0       0.85      0.95      0.90        56\n",
      "\n",
      "    accuracy                           0.84        75\n",
      "   macro avg       0.81      0.74      0.76        75\n",
      "weighted avg       0.83      0.84      0.83        75\n",
      "\n",
      "\n",
      "🎁🎁🎁best_model is: Neural Net with test acc = 84.00%.\n"
     ]
    }
   ],
   "source": [
    "best_test_acc = -np.inf\n",
    "best_model = {}\n",
    "\n",
    "for clf_name, config in clfs.items():\n",
    "    history = {\"train_acc\": [], \"val_acc\": []}\n",
    "    best_val_acc = 0\n",
    "    best_param = None\n",
    "\n",
    "    for p in tqdm(config[\"param_values\"]):\n",
    "        avg_val_acc = 0\n",
    "        avg_train_acc = 0\n",
    "\n",
    "        for x_train, y_train, x_val, y_val in choose_fold(X, Y, cv_num):\n",
    "            clf = config[\"base_clf\"]\n",
    "            setattr(clf, config[\"param\"], p)\n",
    "            clf.fit(x_train, y_train)\n",
    "            y_pred = clf.predict(x_train)\n",
    "            avg_train_acc += (np.sum(y_pred == y_train) / len(y_pred)) * 100\n",
    "            y_pred = clf.predict(x_val)\n",
    "            avg_val_acc += (np.sum(y_pred == y_val) / len(y_pred)) * 100\n",
    "\n",
    "        history[\"train_acc\"].append(avg_train_acc / cv_num)\n",
    "        history[\"val_acc\"].append(avg_val_acc / cv_num)\n",
    "\n",
    "        if history[\"val_acc\"][-1] > best_val_acc:\n",
    "            best_val_acc = history[\"val_acc\"][-1]\n",
    "            best_param = p\n",
    "            if clf_name == \"Neural Net\":\n",
    "                best_loss_hist = clf.loss_history\n",
    "\n",
    "    print(f\"==> {clf_name} <==\")\n",
    "    print(\"Training result:\")\n",
    "    print(\"\\tbest param: {} = {}\\n\\tbest validation accuracy = {:.2f}%\".format(config[\"param\"],\n",
    "                                                                               best_param,\n",
    "                                                                               best_val_acc))        \n",
    "    plt.plot(config[\"param_values\"], history[\"train_acc\"], c=\"r\")\n",
    "    plt.plot(config[\"param_values\"], history[\"val_acc\"], c=\"b\")\n",
    "    plt.legend(history.keys())\n",
    "    plt.grid()\n",
    "    plt.title(clf_name)\n",
    "    plt.ylabel(\"Accuracy\")\n",
    "    plt.xlabel(config[\"param\"])\n",
    "    if \"SVM\" in clf_name or clf_name == \"XGBoost\":\n",
    "        plt.xscale(\"log\")\n",
    "    plt.show()\n",
    "    \n",
    "    if clf_name == \"Neural Net\":\n",
    "        clf.model_architecture()\n",
    "        plt.plot()\n",
    "        plt.plot(range(clf.epoch), best_loss_hist)\n",
    "        plt.grid()\n",
    "        plt.title(\"Training Loss\")\n",
    "        plt.ylabel(\"Loss\")\n",
    "        plt.xlabel(\"epoch\")\n",
    "        plt.show()\n",
    "        \n",
    "    print(\"Test result: \")\n",
    "    setattr(clf, config[\"param\"], best_param)\n",
    "    clf.fit(X, Y)\n",
    "    x_test_stand = scaler.transform(x_test)\n",
    "    y_pred = clf.predict(x_test_stand)\n",
    "    test_acc = (np.sum(y_pred == y_test) / len(y_pred)) * 100\n",
    "    if test_acc > best_test_acc:\n",
    "        best_test_acc = test_acc\n",
    "        best_model[\"name\"] = clf_name\n",
    "        best_model[\"clf\"] = clf\n",
    "    con_mat = confusion_matrix(y_test, y_pred)\n",
    "    con_mat_norm = np.around(con_mat.astype('float') / con_mat.sum(axis=1)[:, np.newaxis], decimals=2)\n",
    "    con_mat_df = pd.DataFrame(con_mat_norm, index=[i for i in range(n_class)], columns=[i for i in range(n_class)])\n",
    "    figure = plt.figure(figsize=(n_class, n_class))\n",
    "    sns.heatmap(con_mat_df, annot=True, cmap=plt.cm.Blues)\n",
    "    plt.tight_layout()\n",
    "    plt.ylabel('True label')\n",
    "    plt.xlabel('Predicted label')\n",
    "    plt.title('confusion matrix')\n",
    "    plt.show()\n",
    "    report = classification_report(y_test, y_pred)\n",
    "    print(report)\n",
    "\n",
    "    if clf_name == \"Decision Tree\":\n",
    "        setattr(clfs[\"Random Forest\"][\"base_clf\"], \"max_depth\", best_param)\n",
    "        setattr(clfs[\"XGBoost\"][\"base_clf\"], \"max_depth\", best_param)\n",
    "\n",
    "    if clf_name == \"Random Forest\":\n",
    "        setattr(clfs[\"XGBoost\"][\"base_clf\"], \"n_estimators\", best_param)\n",
    "        \n",
    "print(f\"\\n🎁🎁🎁best_model is: {best_model['name']} with test acc = {best_test_acc:.2f}%.\")"
   ]
  },
  {
   "cell_type": "code",
   "execution_count": null,
   "metadata": {},
   "outputs": [],
   "source": []
  }
 ],
 "metadata": {
  "colab": {
   "collapsed_sections": [],
   "name": "answer_and_report.ipynb",
   "provenance": []
  },
  "kernelspec": {
   "display_name": "Python 3 (ipykernel)",
   "language": "python",
   "name": "python3"
  },
  "language_info": {
   "codemirror_mode": {
    "name": "ipython",
    "version": 3
   },
   "file_extension": ".py",
   "mimetype": "text/x-python",
   "name": "python",
   "nbconvert_exporter": "python",
   "pygments_lexer": "ipython3",
   "version": "3.8.10"
  }
 },
 "nbformat": 4,
 "nbformat_minor": 1
}
