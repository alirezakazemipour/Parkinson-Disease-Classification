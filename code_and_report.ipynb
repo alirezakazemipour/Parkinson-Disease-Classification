{
  "cells": [
    {
      "cell_type": "code",
      "execution_count": 14,
      "metadata": {
        "colab": {
          "base_uri": "https://localhost:8080/"
        },
        "id": "TXnF17CAVBxS",
        "outputId": "a711cd65-6027-402f-da52-edb338994ec2"
      },
      "outputs": [
        {
          "output_type": "stream",
          "name": "stdout",
          "text": [
            "Drive already mounted at /content/drive; to attempt to forcibly remount, call drive.mount(\"/content/drive\", force_remount=True).\n"
          ]
        }
      ],
      "source": [
        "from google.colab import drive\n",
        "drive.mount('/content/drive')"
      ]
    },
    {
      "cell_type": "code",
      "execution_count": 15,
      "metadata": {
        "id": "thRfAP8VVIpN"
      },
      "outputs": [],
      "source": [
        "import os\n",
        "os.chdir(\"/content/drive/MyDrive/Colab Notebooks/ml_hw2\")"
      ]
    },
    {
      "cell_type": "markdown",
      "metadata": {
        "id": "2xoIkUFnBzkz"
      },
      "source": [
        "<h3 style=\"text-align:center\">\n",
        "    In the name of God\n",
        "</h3>\n",
        "<p style=\"text-align:left\">\n",
        "    Machine Learning Course 1400, Dr. Sajedi\n",
        "    <br>HW2\n",
        "    <br>Alireza Kazemipour\n",
        "    <br>610300171\n",
        "</p>"
      ]
    },
    {
      "cell_type": "code",
      "execution_count": 16,
      "metadata": {
        "colab": {
          "base_uri": "https://localhost:8080/"
        },
        "id": "9P6EKfqeU-DL",
        "outputId": "143a8b05-898b-459b-f31f-26bae9d28817"
      },
      "outputs": [
        {
          "output_type": "stream",
          "name": "stdout",
          "text": [
            "Requirement already satisfied: nn-without-frameworks==0.0.14 in /usr/local/lib/python3.7/dist-packages (0.0.14)\n",
            "Requirement already satisfied: numpy in /usr/local/lib/python3.7/dist-packages (from nn-without-frameworks==0.0.14) (1.19.5)\n",
            "Requirement already satisfied: tabulate in /usr/local/lib/python3.7/dist-packages (from nn-without-frameworks==0.0.14) (0.8.9)\n"
          ]
        }
      ],
      "source": [
        "!pip install nn-without-frameworks==0.0.14"
      ]
    },
    {
      "cell_type": "code",
      "execution_count": 17,
      "metadata": {
        "id": "xhGJYb8PU-DR"
      },
      "outputs": [],
      "source": [
        "%matplotlib inline\n",
        "\n",
        "from nn_without_frameworks import numpy_nn as nn\n",
        "from typing import List\n",
        "from sklearn.svm import SVC\n",
        "from sklearn.tree import DecisionTreeClassifier\n",
        "from sklearn.ensemble import RandomForestClassifier\n",
        "from xgboost import XGBClassifier\n",
        "from sklearn.metrics import confusion_matrix, classification_report, f1_score, log_loss\n",
        "from sklearn.preprocessing import StandardScaler, OneHotEncoder\n",
        "import pandas as pd\n",
        "import matplotlib.pyplot as plt\n",
        "import seaborn as sns\n",
        "from tqdm import tqdm\n",
        "import numpy as np\n",
        "import time"
      ]
    },
    {
      "cell_type": "code",
      "execution_count": 18,
      "metadata": {
        "colab": {
          "base_uri": "https://localhost:8080/"
        },
        "id": "V5gZukqjU-DV",
        "outputId": "daef2375-91e6-4456-d633-965c1ad1d246"
      },
      "outputs": [
        {
          "output_type": "stream",
          "name": "stdout",
          "text": [
            "Index(['id', 'gender', 'PPE', 'DFA', 'RPDE', 'numPulses', 'numPeriodsPulses',\n",
            "       'meanPeriodPulses', 'stdDevPeriodPulses', 'locPctJitter',\n",
            "       ...\n",
            "       'tqwt_kurtosisValue_dec_28', 'tqwt_kurtosisValue_dec_29',\n",
            "       'tqwt_kurtosisValue_dec_30', 'tqwt_kurtosisValue_dec_31',\n",
            "       'tqwt_kurtosisValue_dec_32', 'tqwt_kurtosisValue_dec_33',\n",
            "       'tqwt_kurtosisValue_dec_34', 'tqwt_kurtosisValue_dec_35',\n",
            "       'tqwt_kurtosisValue_dec_36', 'class'],\n",
            "      dtype='object', length=755)\n"
          ]
        }
      ],
      "source": [
        "dataset = pd.read_csv('pd_speech_features.csv', skiprows=[0], encoding=\"utf-8\")\n",
        "print(dataset.keys())"
      ]
    },
    {
      "cell_type": "code",
      "execution_count": 19,
      "metadata": {
        "colab": {
          "base_uri": "https://localhost:8080/"
        },
        "id": "hZxMSsRCU-Db",
        "outputId": "ea5bbb6e-dcb7-4d8a-f9a0-849747c046c6"
      },
      "outputs": [
        {
          "output_type": "stream",
          "name": "stdout",
          "text": [
            "input's shape: (756, 754)\n",
            "labels's shape: (756,)\n"
          ]
        }
      ],
      "source": [
        "dataset_vals = dataset.values\n",
        "X = dataset_vals[..., :-1]\n",
        "Y = dataset_vals[..., -1]\n",
        "n_class = int(np.max(Y) + 1)\n",
        "n_feat = X.shape[-1]\n",
        "print(f\"input's shape: {X.shape}\")\n",
        "print(f\"labels's shape: {Y.shape}\")"
      ]
    },
    {
      "cell_type": "code",
      "execution_count": 20,
      "metadata": {
        "colab": {
          "base_uri": "https://localhost:8080/"
        },
        "id": "FqpfTDMJBTvt",
        "outputId": "48c572e4-7880-4572-844d-7905285b8a64"
      },
      "outputs": [
        {
          "output_type": "stream",
          "name": "stdout",
          "text": [
            "number of class 1 instances: 564\n",
            "number of class 0 instances: 192\n",
            "imbalance ratio:2.94\n"
          ]
        }
      ],
      "source": [
        "pos_class = np.sum(Y == 1)\n",
        "neg_class = np.sum(Y == 0)\n",
        "print(f\"number of class 1 instances: {pos_class}\")\n",
        "print(f\"number of class 0 instances: {neg_class}\")\n",
        "print(f\"imbalance ratio:{max(pos_class / neg_class, neg_class / pos_class):.2f}\")"
      ]
    },
    {
      "cell_type": "code",
      "execution_count": 21,
      "metadata": {
        "id": "hI4gCth3U-De"
      },
      "outputs": [],
      "source": [
        "cv_num = 5\n",
        "seed = 123"
      ]
    },
    {
      "cell_type": "code",
      "execution_count": 22,
      "metadata": {
        "id": "FQPhjk1zU-Di"
      },
      "outputs": [],
      "source": [
        "np.random.seed(seed)\n",
        "shuffler = np.random.permutation(len(X))\n",
        "X = X[shuffler]\n",
        "Y = Y[shuffler]"
      ]
    },
    {
      "cell_type": "code",
      "execution_count": 23,
      "metadata": {
        "id": "LQ16kzqiU-Dk"
      },
      "outputs": [],
      "source": [
        "test_idx = np.random.permutation(len(X))[:int(0.1 * len(X))]\n",
        "x_test = X[test_idx]\n",
        "y_test = Y[test_idx]\n",
        "\n",
        "X = np.delete(X, test_idx, axis=0)\n",
        "Y = np.delete(Y, test_idx, axis=0)\n",
        "full_batch_size = X.shape[0]"
      ]
    },
    {
      "cell_type": "code",
      "execution_count": 24,
      "metadata": {
        "id": "m6tkyeNiU-Dp"
      },
      "outputs": [],
      "source": [
        "scaler = StandardScaler() \n",
        "X = scaler.fit_transform(X)"
      ]
    },
    {
      "cell_type": "code",
      "execution_count": 25,
      "metadata": {
        "id": "zX5QwW_WU-Du"
      },
      "outputs": [],
      "source": [
        "def choose_fold(x, y, n):\n",
        "    for i in range(n):\n",
        "        x_val = x[i * full_batch_size // cv_num: (i + 1) * full_batch_size // cv_num]\n",
        "        y_val = y[i * full_batch_size // cv_num: (i + 1) * full_batch_size // cv_num]\n",
        "\n",
        "        x_train = np.delete(x, range(i * full_batch_size // cv_num, (i + 1) * full_batch_size // cv_num), axis=0)\n",
        "        y_train = np.delete(y, range(i * full_batch_size // cv_num, (i + 1) * full_batch_size // cv_num), axis=0)\n",
        "\n",
        "        yield x_train, y_train, x_val, y_val"
      ]
    },
    {
      "cell_type": "code",
      "execution_count": 26,
      "metadata": {
        "id": "S60vWC31U-Dy"
      },
      "outputs": [],
      "source": [
        "class NNClassifier:\n",
        "    def __init__(self,\n",
        "                 hidden_units: List=[64],\n",
        "                 epoch=500,\n",
        "                 lr=0.001,\n",
        "                 opt: nn.optims.Optimizer=nn.optims.SGD,\n",
        "                 lam: float=0,\n",
        "                 reg_type: str=None,\n",
        "                 random_state=int(time.time())\n",
        "                ):\n",
        "        self.hidden_units = hidden_units\n",
        "        self.epoch = epoch\n",
        "        self.lr = lr\n",
        "        self.opt = opt\n",
        "        self.lam = lam\n",
        "        self.reg_type = reg_type\n",
        "        self.seed = random_state\n",
        "        self.bce_loss = nn.losses.BinaryCrossEntropy() # FocalLoss(gamma=0.2)\n",
        "        self.model = None\n",
        "        self.best_weights = None\n",
        "        self.loss_history = []\n",
        "        \n",
        "    def fit(self, x, y):\n",
        "        self.loss_history = []\n",
        "        nn.seed(self.seed)\n",
        "        best_loss = np.inf\n",
        "        self.best_weights = None\n",
        "        self.model = None\n",
        "        n_feat = int(x.shape[-1])\n",
        "        # n_pos = np.sum(y == 1)\n",
        "        # n_neg = np.sum(y == 0)\n",
        "\n",
        "        if self.model is None:\n",
        "            hidden_units = self.hidden_units\n",
        "            \n",
        "            hidden_layers = []\n",
        "            for i in range(len(hidden_units)):\n",
        "                hidden_layers.append(nn.layers.Dense(in_features=n_feat,\n",
        "                                           out_features=hidden_units[i],\n",
        "                                           activation=nn.acts.ReLU(),\n",
        "                                           weight_initializer=nn.inits.HeNormal(nn.acts.ReLU()),\n",
        "                                           bias_initializer=nn.inits.Constant(0.1),\n",
        "                                           regularizer_type=self.reg_type,\n",
        "                                           lam=self.lam)\n",
        "                                    )\n",
        "                hidden_layers.append(nn.layers.BatchNorm1d(hidden_units[i]))\n",
        "                n_feat = hidden_units[i]\n",
        "\n",
        "            if isinstance(hidden_layers[-1], nn.layers.BatchNorm1d):\n",
        "                hidden_layers.pop(-1) \n",
        "            output_layer = nn.layers.Dense(in_features=self.hidden_units[-1],\n",
        "                                      out_features=1,\n",
        "                                      activation=nn.acts.Sigmoid(),\n",
        "                                      weight_initializer=nn.inits.XavierUniform(),\n",
        "                                      bias_initializer=nn.inits.Constant(0.01),\n",
        "                                      regularizer_type=self.reg_type,\n",
        "                                      lam=self.lam\n",
        "                                      )\n",
        "            \n",
        "            \n",
        "            self.model = nn.Sequential(*hidden_layers, output_layer)\n",
        "        opt = self.opt(self.model.parameters, lr=self.lr)\n",
        "            \n",
        "        for step in range(self.epoch):\n",
        "            y_pred = self.model(x)\n",
        "            y_pred = y_pred.squeeze(-1)\n",
        "            loss = self.bce_loss(y_pred, y)\n",
        "            self.model.backward(loss)\n",
        "            opt.apply()\n",
        "\n",
        "            total_loss = loss.value\n",
        "            total_loss += sum([0.5 * l.lam * np.sum(l.vars[\"W\"] ** 2) for l in self.model._layers])\n",
        "\n",
        "            if total_loss < best_loss:\n",
        "              best_loss = total_loss\n",
        "              self.best_weights = self.model.parameters\n",
        "\n",
        "\n",
        "            if step == 0:\n",
        "                self.loss_history.append(total_loss)\n",
        "            else:\n",
        "                self.loss_history.append(0.9 * self.loss_history[-1] + 0.1 * total_loss)\n",
        "            \n",
        "    def predict(self, x):\n",
        "        assert not self.model is None\n",
        "        self.model.set_weights(self.best_weights)\n",
        "        pred = self.model(x)\n",
        "        return np.where(pred > 0.5, 1, 0).squeeze(-1)\n",
        "    \n",
        "    def model_architecture(self):\n",
        "        self.model.summary() "
      ]
    },
    {
      "cell_type": "code",
      "source": [
        "class SingleLayerELMClassifier:\n",
        "    def __init__(self,\n",
        "                 units: int=64,\n",
        "                 random_state=int(time.time())\n",
        "                 ):\n",
        "        \"\"\"\n",
        "        Reference:\n",
        "        - [Introduction](https://towardsdatascience.com/introduction-to-extreme-learning-machines-c020020ff82b)\n",
        "        - [code](https://github.com/burnpiro/elm-pure)\n",
        "        \"\"\"\n",
        "        self.units = units\n",
        "        self.seed = random_state\n",
        "        self.beta = None\n",
        "        self.H = None\n",
        "        self.onehot_fn = OneHotEncoder(sparse=False)\n",
        "        \n",
        "    def fit(self, x, y):\n",
        "        nn.seed(self.seed)\n",
        "        self.beta = None\n",
        "        self.H = None\n",
        "        n_feat = int(x.shape[-1])\n",
        "        # n_pos = np.sum(y == 1)\n",
        "        # n_neg = np.sum(y == 0)\n",
        "\n",
        "        if self.beta is None:\n",
        "          self.H = nn.layers.Dense(in_features=n_feat,\n",
        "                                  out_features=self.units,\n",
        "                                  # activation=nn.acts.Tanh(),\n",
        "                                  bias_initializer=nn.inits.RandomUniform()\n",
        "                                  )\n",
        "        H = self.H.forward(x)\n",
        "        y = (y + 1).reshape(-1, 1)\n",
        "        y = one_hot.fit_transform(y)\n",
        "        \n",
        "        self.beta = np.linalg.pinv(H).dot(y)\n",
        "            \n",
        "    def predict(self, x):\n",
        "        assert not self.beta is None\n",
        "        pred = self.H.forward(x).dot(self.beta)\n",
        "        return np.argmax(pred, -1)"
      ],
      "metadata": {
        "id": "apypBB2h3yLL"
      },
      "execution_count": 89,
      "outputs": []
    },
    {
      "cell_type": "code",
      "execution_count": 92,
      "metadata": {
        "id": "A4PY-NbxU-D6"
      },
      "outputs": [],
      "source": [
        "clfs = {\n",
        "#     \"Neural Net 256\": {\"base_clf\": NNClassifier(hidden_units=[256],\n",
        "#                                                 epoch=400,\n",
        "#                                                 opt=nn.optims.Adam,\n",
        "#                                                 lam=1e-3,\n",
        "#                                                 reg_type=\"l2\",\n",
        "#                                                 random_state=seed\n",
        "#                                                ),\n",
        "#                        \"param\": \"lr\",\n",
        "#                        \"param_values\": [1e-2, 1e-3, 1e-4, 1e-5]\n",
        "#                        },\n",
        "#         \"Neural Net 128\": {\"base_clf\": NNClassifier(hidden_units=[128],\n",
        "#                                                 epoch=400,\n",
        "#                                                 opt=nn.optims.Adam,\n",
        "#                                                 lam=1e-3,\n",
        "#                                                 reg_type=\"l2\",\n",
        "#                                                 random_state=seed\n",
        "#                                                ),\n",
        "#                        \"param\": \"lr\",\n",
        "#                        \"param_values\": [1e-2, 1e-3, 1e-4, 1e-5]\n",
        "#                        },\n",
        "#         \"Neural Net 64\": {\"base_clf\": NNClassifier(hidden_units=[64],\n",
        "#                                                 epoch=400,\n",
        "#                                                 opt=nn.optims.Adam,\n",
        "#                                                 lam=1e-3,\n",
        "#                                                 reg_type=\"l2\",\n",
        "#                                                 random_state=seed\n",
        "#                                                ),\n",
        "#                        \"param\": \"lr\",\n",
        "#                        \"param_values\": [1e-2, 1e-3, 1e-4, 1e-5]\n",
        "#                        },\n",
        "#         \"Neural Net 64_32\": {\"base_clf\": NNClassifier(hidden_units=[64, 32],\n",
        "#                                                 epoch=400,\n",
        "#                                                 opt=nn.optims.Adam,\n",
        "#                                                 lam=1e-3,\n",
        "#                                                 reg_type=\"l2\",\n",
        "#                                                 random_state=seed\n",
        "#                                                ),\n",
        "#                        \"param\": \"lr\",\n",
        "#                        \"param_values\": [1e-2, 1e-3, 1e-4, 1e-5]\n",
        "#                        }\n",
        "# \"Neural Net 256\": {\"base_clf\": NNClassifier(hidden_units=[256],\n",
        "#                                                 epoch=400,\n",
        "#                                                 opt=nn.optims.Adam,\n",
        "#                                                 lam=1e-3,\n",
        "#                                                 reg_type=\"l2\",\n",
        "#                                                 random_state=seed\n",
        "#                                                ),\n",
        "#                        \"param\": \"lr\",\n",
        "#                        \"param_values\": [1e-2, 1e-3, 1e-4, 1e-5]\n",
        "#                        },\n",
        "#         \"Neural Net 128\": {\"base_clf\": NNClassifier(hidden_units=[128],\n",
        "#                                                 epoch=400,\n",
        "#                                                 opt=nn.optims.Adam,\n",
        "#                                                 lam=1e-3,\n",
        "#                                                 reg_type=\"l2\",\n",
        "#                                                 random_state=seed\n",
        "#                                                ),\n",
        "#                        \"param\": \"lr\",\n",
        "#                        \"param_values\": [1e-2, 1e-3, 1e-4, 1e-5]\n",
        "#                        },\n",
        "#         \"Neural Net 64\": {\"base_clf\": NNClassifier(hidden_units=[64],\n",
        "#                                                 epoch=400,\n",
        "#                                                 opt=nn.optims.Adam,\n",
        "#                                                 lam=1e-3,\n",
        "#                                                 reg_type=\"l2\",\n",
        "#                                                 random_state=seed\n",
        "#                                                ),\n",
        "#                        \"param\": \"lr\",\n",
        "#                        \"param_values\": [1e-2, 1e-3, 1e-4, 1e-5]\n",
        "#                        },\n",
        "        \"ELM\": {\"base_clf\": SingleLayerELMClassifier(random_state=seed\n",
        "                                               ),\n",
        "                       \"param\": \"units\",\n",
        "                       \"param_values\": 2 ** np.linspace(2, 9, num=8).astype(int)\n",
        "                       }\n",
        "        }"
      ]
    },
    {
      "cell_type": "code",
      "execution_count": 93,
      "metadata": {
        "colab": {
          "base_uri": "https://localhost:8080/",
          "height": 774
        },
        "id": "tOBv3Lc8U-D9",
        "outputId": "989d56c0-85fd-4ba5-a4c5-ee264d910aa2"
      },
      "outputs": [
        {
          "output_type": "stream",
          "name": "stderr",
          "text": [
            "100%|██████████| 8/8 [00:02<00:00,  3.74it/s]\n"
          ]
        },
        {
          "output_type": "stream",
          "name": "stdout",
          "text": [
            "==> ELM <==\n",
            "Training result:\n",
            "\tbest param: units = 256\n",
            "\tbest validation f1-score = 0.71\n"
          ]
        },
        {
          "output_type": "display_data",
          "data": {
            "image/png": "[encoded data removed]",
            "text/plain": [
              "<Figure size 432x288 with 1 Axes>"
            ]
          },
          "metadata": {
            "needs_background": "light"
          }
        },
        {
          "output_type": "stream",
          "name": "stdout",
          "text": [
            "\n",
            "Test result: \n"
          ]
        },
        {
          "output_type": "display_data",
          "data": {
            "image/png": "[encoded data removed]",
            "text/plain": [
              "<Figure size 144x144 with 2 Axes>"
            ]
          },
          "metadata": {
            "needs_background": "light"
          }
        },
        {
          "output_type": "stream",
          "name": "stdout",
          "text": [
            "              precision    recall  f1-score   support\n",
            "\n",
            "         0.0       0.71      0.67      0.69        18\n",
            "         1.0       0.90      0.91      0.90        57\n",
            "\n",
            "    accuracy                           0.85        75\n",
            "   macro avg       0.80      0.79      0.80        75\n",
            "weighted avg       0.85      0.85      0.85        75\n",
            "\n",
            "\n",
            "🎁🎁🎁best_model is: ELM with test f1-score = 0.80%.\n"
          ]
        }
      ],
      "source": [
        "best_test_f1 = -np.inf\n",
        "best_model = {}\n",
        "\n",
        "for clf_name, config in clfs.items():\n",
        "    history = {\"train_f1\": [], \"val_f1\": []}\n",
        "    best_val_f1 = 0\n",
        "    best_param = None\n",
        "\n",
        "    for p in tqdm(config[\"param_values\"]):\n",
        "        avg_val_f1 = 0\n",
        "        avg_train_f1 = 0\n",
        "\n",
        "        for x_train, y_train, x_val, y_val in choose_fold(X, Y, cv_num):\n",
        "            clf = config[\"base_clf\"]\n",
        "            setattr(clf, \"random_state\", seed)\n",
        "            setattr(clf, config[\"param\"], p)\n",
        "            clf.fit(x_train, y_train)\n",
        "            y_pred = clf.predict(x_train)\n",
        "            avg_train_f1 += f1_score(y_train, y_pred, average='macro')\n",
        "            y_pred = clf.predict(x_val)\n",
        "            avg_val_f1 += f1_score(y_val, y_pred, average='macro')\n",
        "\n",
        "        history[\"train_f1\"].append(avg_train_f1 / cv_num)\n",
        "        history[\"val_f1\"].append(avg_val_f1 / cv_num)\n",
        "\n",
        "        if history[\"val_f1\"][-1] > best_val_f1:\n",
        "            best_val_f1 = history[\"val_f1\"][-1]\n",
        "            best_param = p\n",
        "            if \"Neural Net\" in clf_name:\n",
        "                best_loss_hist = clf.loss_history\n",
        "\n",
        "    print(f\"==> {clf_name} <==\")\n",
        "    print(\"Training result:\")\n",
        "    print(\"\\tbest param: {} = {}\\n\\tbest validation f1-score = {:.2f}\".format(config[\"param\"],\n",
        "                                                                               best_param,\n",
        "                                                                               best_val_f1))        \n",
        "    plt.plot(config[\"param_values\"], history[\"train_f1\"], c=\"r\")\n",
        "    plt.plot(config[\"param_values\"], history[\"val_f1\"], c=\"b\")\n",
        "    plt.legend(history.keys())\n",
        "    plt.grid()\n",
        "    plt.title(clf_name)\n",
        "    plt.ylabel(\"F1-Score\")\n",
        "    plt.xlabel(config[\"param\"])\n",
        "    if any(name in clf_name for name in [\"SVM\", \"XGBoost\", \"Neural Net\"]):\n",
        "        plt.xscale(\"log\")\n",
        "    plt.show()\n",
        "    \n",
        "    if \"Neural Net\" in clf_name:\n",
        "        clf.model_architecture()\n",
        "        plt.plot()\n",
        "        plt.plot(range(clf.epoch), best_loss_hist)\n",
        "        plt.grid()\n",
        "        plt.title(\"Training Loss\")\n",
        "        plt.ylabel(\"Loss\")\n",
        "        plt.xlabel(\"epoch\")\n",
        "        plt.show()\n",
        "        \n",
        "    print(\"\\nTest result: \")\n",
        "    setattr(clf, config[\"param\"], best_param)\n",
        "    clf.fit(X, Y)\n",
        "    x_test_stand = scaler.transform(x_test)\n",
        "    y_pred = clf.predict(x_test_stand)\n",
        "    test_f1 = f1_score(y_test, y_pred, average='macro')\n",
        "    if test_f1 > best_test_f1:\n",
        "        best_test_f1 = test_f1\n",
        "        best_model[\"name\"] = clf_name\n",
        "        best_model[\"clf\"] = clf\n",
        "    con_mat = confusion_matrix(y_test, y_pred)\n",
        "    con_mat_norm = np.around(con_mat.astype('float') / con_mat.sum(axis=1)[:, np.newaxis], decimals=2)\n",
        "    con_mat_df = pd.DataFrame(con_mat_norm, index=[i for i in range(n_class)], columns=[i for i in range(n_class)])\n",
        "    figure = plt.figure(figsize=(n_class, n_class))\n",
        "    sns.heatmap(con_mat_df, annot=True, cmap=plt.cm.Blues)\n",
        "    plt.tight_layout()\n",
        "    plt.ylabel('True label')\n",
        "    plt.xlabel('Predicted label')\n",
        "    plt.title('confusion matrix')\n",
        "    plt.show()\n",
        "    report = classification_report(y_test, y_pred)\n",
        "    print(report)\n",
        "\n",
        "    if clf_name == \"Decision Tree\":\n",
        "        setattr(clfs[\"Random Forest\"][\"base_clf\"], \"max_depth\", best_param)\n",
        "        setattr(clfs[\"XGBoost\"][\"base_clf\"], \"max_depth\", best_param)\n",
        "\n",
        "    if clf_name == \"Random Forest\":\n",
        "        setattr(clfs[\"XGBoost\"][\"base_clf\"], \"n_estimators\", best_param)\n",
        "        \n",
        "print(f\"\\n🎁🎁🎁best_model is: {best_model['name']} with test f1-score = {best_test_f1:.2f}%.\")"
      ]
    },
    {
      "cell_type": "code",
      "source": [
        ""
      ],
      "metadata": {
        "id": "E1XVlxt-rtXb"
      },
      "execution_count": 88,
      "outputs": []
    }
  ],
  "metadata": {
    "colab": {
      "collapsed_sections": [],
      "name": "code_and_report.ipynb",
      "provenance": []
    },
    "kernelspec": {
      "display_name": "Python 3 (ipykernel)",
      "language": "python",
      "name": "python3"
    },
    "language_info": {
      "codemirror_mode": {
        "name": "ipython",
        "version": 3
      },
      "file_extension": ".py",
      "mimetype": "text/x-python",
      "name": "python",
      "nbconvert_exporter": "python",
      "pygments_lexer": "ipython3",
      "version": "3.8.10"
    }
  },
  "nbformat": 4,
  "nbformat_minor": 0
}